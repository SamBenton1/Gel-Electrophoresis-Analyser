{
 "cells": [
  {
   "cell_type": "markdown",
   "metadata": {
    "collapsed": true,
    "pycharm": {
     "name": "#%% md\n"
    }
   },
   "source": [
    "# Data Analysis\n",
    "This notebook contains the code required to analyse the serialised data produced by\n",
    "the interface. Step by step is shows how to convert the data into a calibration curve and produce\n",
    "values of DNA fragment size."
   ]
  },
  {
   "cell_type": "markdown",
   "source": [
    "#### Size Markers\n",
    "The `SIZE_MARKERS` constant is an array of integers corresponding the marker bands on the gel. This\n",
    "allows for the calculation of the size of the other bands on the gel."
   ],
   "metadata": {
    "collapsed": false,
    "pycharm": {
     "name": "#%% md\n"
    }
   }
  },
  {
   "cell_type": "code",
   "execution_count": 17,
   "outputs": [],
   "source": [
    "SIZE_MAKERS = [15000, 10000, 8000, 7000, 6000, 5000, 4000, 3000, 2000, 1500, 1000,\n",
    "                        850, 650, 500, 400, 300, 200, 100]"
   ],
   "metadata": {
    "collapsed": false,
    "pycharm": {
     "name": "#%%\n"
    }
   }
  },
  {
   "cell_type": "code",
   "execution_count": 18,
   "outputs": [],
   "source": [
    "import pickle\n",
    "from collections import defaultdict\n",
    "\n",
    "# First the data is read in from the .pickle file\n",
    "with open(\"results.pickle\", \"rb\") as data_file:\n",
    "    data = pickle.load(data_file)\n",
    "\n",
    "# Sort the bands into which well they are from\n",
    "wells = defaultdict(list)\n",
    "for band in data[\"bands\"]:\n",
    "    x, y = band\n",
    "    wells[x].append(y - data[\"well_position\"])\n",
    "\n",
    "# Create a list of the marker bands\n",
    "marker_bands = [position[1] - data[\"well_position\"] for position in data[\"markers\"]]"
   ],
   "metadata": {
    "collapsed": false,
    "pycharm": {
     "name": "#%%\n"
    }
   }
  },
  {
   "cell_type": "markdown",
   "source": [
    "#### Describe data"
   ],
   "metadata": {
    "collapsed": false,
    "pycharm": {
     "name": "#%% md\n"
    }
   }
  },
  {
   "cell_type": "code",
   "execution_count": 19,
   "outputs": [
    {
     "name": "stdout",
     "output_type": "stream",
     "text": [
      "Using 17 DNA fragment markers.\n",
      "Calculating 17 wells and 61 bands.\n"
     ]
    }
   ],
   "source": [
    "print(f\"Using {len(data['markers'])} DNA fragment markers.\")\n",
    "print(f\"Calculating {len(wells)} wells and {sum([len(value) for _, value in wells.items()])} bands.\")"
   ],
   "metadata": {
    "collapsed": false,
    "pycharm": {
     "name": "#%%\n"
    }
   }
  },
  {
   "cell_type": "markdown",
   "source": [
    "#### Calculate a line of best fit"
   ],
   "metadata": {
    "collapsed": false,
    "pycharm": {
     "name": "#%% md\n"
    }
   }
  },
  {
   "cell_type": "code",
   "execution_count": 20,
   "outputs": [],
   "source": [
    "import numpy as np\n",
    "\n",
    "x = np.array(marker_bands)\n",
    "y = np.array(SIZE_MAKERS[:len(marker_bands)])\n",
    "log_x = np.log(x)\n",
    "log_y = np.log(y)\n",
    "curve_fit = np.polyfit(x, log_y, 1)\n",
    "m, c = curve_fit\n",
    "derive_y = np.exp(c) * np.exp(m * x)"
   ],
   "metadata": {
    "collapsed": false,
    "pycharm": {
     "name": "#%%\n"
    }
   }
  },
  {
   "cell_type": "markdown",
   "source": [
    "#### Plot Graph"
   ],
   "metadata": {
    "collapsed": false,
    "pycharm": {
     "name": "#%% md\n"
    }
   }
  },
  {
   "cell_type": "code",
   "execution_count": 21,
   "outputs": [
    {
     "data": {
      "text/plain": "<Figure size 432x288 with 1 Axes>",
      "image/png": "[encoded data removed]"
     },
     "metadata": {
      "needs_background": "light"
     },
     "output_type": "display_data"
    }
   ],
   "source": [
    "import matplotlib.pyplot as plt\n",
    "\n",
    "fig, ax = plt.subplots()\n",
    "plt.scatter(x, y)\n",
    "plt.plot(x, derive_y)\n",
    "\n",
    "ax.set_title(\"Calibration Plot\")\n",
    "ax.set_yscale(\"log\")\n",
    "ax.set_ylabel(\"Size DNA (kb)\")\n",
    "ax.set_xlabel(\"Distance migrated (px)\")\n",
    "plt.show()"
   ],
   "metadata": {
    "collapsed": false,
    "pycharm": {
     "name": "#%%\n"
    }
   }
  },
  {
   "cell_type": "markdown",
   "source": [
    "#### Calculate and display bands"
   ],
   "metadata": {
    "collapsed": false,
    "pycharm": {
     "name": "#%% md\n"
    }
   }
  },
  {
   "cell_type": "code",
   "execution_count": 22,
   "outputs": [
    {
     "name": "stdout",
     "output_type": "stream",
     "text": [
      "  6317 kBp  4817 kBp  3411 kBp  2801 kBp  5724 kBp  4365 kBp  3955 kBp  2801 kBp 10863 kBp  9370 kBp  4155 kBp  2871 kBp  2416 kBp  4817 kBp  3765 kBp  3496 kBp  2601 kBp\n",
      "  4699 kBp             995 kBp   879 kBp  4258 kBp  2942 kBp  2942 kBp  1019 kBp  8919 kBp  8082 kBp             901 kBp   816 kBp  3583 kBp             390 kBp  2243 kBp\n",
      "  3328 kBp                       499 kBp  2942 kBp             486 kBp   524 kBp  7693 kBp  5724 kBp             816 kBp   430 kBp  2476 kBp                       837 kBp\n",
      "  3016 kBp                                                                        6971 kBp  4155 kBp                                                               758 kBp\n",
      "                                                                                  6163 kBp  2871 kBp                                                               399 kBp\n",
      "                                                                                  5186 kBp                                                                                \n",
      "                                                                                  4258 kBp                                                                                \n",
      "                                                                                  3168 kBp                                                                                \n",
      "                                                                                  2033 kBp                                                                                \n",
      "                                                                                  1512 kBp                                                                                \n",
      "                                                                                   924 kBp                                                                                \n",
      "                                                                                   777 kBp                                                                                \n",
      "                                                                                   607 kBp                                                                                \n",
      "                                                                                   475 kBp                                                                                \n",
      "                                                                                   399 kBp                                                                                \n",
      "                                                                                   336 kBp                                                                                \n",
      "                                                                                   269 kBp                                                                                \n"
     ]
    }
   ],
   "source": [
    "for key, value in wells.items():\n",
    "    wells[key] = [np.exp(c) * np.exp(m * band) for band in value]\n",
    "\n",
    "while any([value for value in wells.values()]):\n",
    "    printed = \"\"\n",
    "    for index, band in wells.items():\n",
    "        if band:\n",
    "            printed += f\"{int(band.pop(0))} kBp\".rjust(10, \" \")\n",
    "        else:\n",
    "            printed += \" \" * 10\n",
    "    print(printed)\n"
   ],
   "metadata": {
    "collapsed": false,
    "pycharm": {
     "name": "#%%\n"
    }
   }
  }
 ],
 "metadata": {
  "kernelspec": {
   "display_name": "Python 3",
   "language": "python",
   "name": "python3"
  },
  "language_info": {
   "codemirror_mode": {
    "name": "ipython",
    "version": 2
   },
   "file_extension": ".py",
   "mimetype": "text/x-python",
   "name": "python",
   "nbconvert_exporter": "python",
   "pygments_lexer": "ipython2",
   "version": "2.7.6"
  }
 },
 "nbformat": 4,
 "nbformat_minor": 0
}